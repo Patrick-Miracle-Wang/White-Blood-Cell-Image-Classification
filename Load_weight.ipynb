{
 "cells": [
  {
   "cell_type": "code",
   "execution_count": 1,
   "id": "initial_id",
   "metadata": {
    "collapsed": true,
    "ExecuteTime": {
     "end_time": "2023-10-17T01:41:30.216733Z",
     "start_time": "2023-10-17T01:41:29.075855Z"
    }
   },
   "outputs": [],
   "source": [
    "import torch\n",
    "import torch.nn as nn\n",
    "import torch.nn.functional as F\n",
    "from torch.utils.data import DataLoader, Dataset\n",
    "from torchvision import transforms\n",
    "import os\n",
    "import glob\n",
    "from PIL import Image"
   ]
  },
  {
   "cell_type": "code",
   "execution_count": 2,
   "outputs": [
    {
     "name": "stdout",
     "output_type": "stream",
     "text": [
      "cpu\n"
     ]
    }
   ],
   "source": [
    "device = torch.device(\"cuda\" if torch.cuda.is_available() else \"cpu\")\n",
    "print(device)"
   ],
   "metadata": {
    "collapsed": false,
    "ExecuteTime": {
     "end_time": "2023-10-17T01:41:31.104560Z",
     "start_time": "2023-10-17T01:41:31.092072Z"
    }
   },
   "id": "99b51f6e9cd5ef7f"
  },
  {
   "cell_type": "code",
   "execution_count": 3,
   "outputs": [],
   "source": [
    "class WBCDataset(Dataset):\n",
    "    def __init__(self, root_dir, transform=None, mode='train', subset=False):\n",
    "        assert mode in ['train', 'val', 'test'], \"Mode should be 'train', 'val', or 'test'\"\n",
    "\n",
    "        self.root_dir = root_dir\n",
    "        self.transform = transform\n",
    "        self.mode = mode\n",
    "        self.subset = subset\n",
    "\n",
    "        self.cell_types = ['Basophil', 'Eosinophil', 'Lymphocyte', 'Monocyte', 'Neutrophil']\n",
    "        self.image_paths = []\n",
    "        self.labels = []\n",
    "\n",
    "        if self.subset:\n",
    "            data_dir = 'data'\n",
    "        else:\n",
    "            data_dir = '' if mode == 'val' else 'data'\n",
    "\n",
    "        for idx, cell_type in enumerate(self.cell_types):\n",
    "            type_image_paths = glob.glob(os.path.join(root_dir, data_dir, cell_type, '*.jpg'))\n",
    "            self.image_paths.extend(type_image_paths)\n",
    "            self.labels.extend([idx] * len(type_image_paths))\n",
    "\n",
    "    def __len__(self):\n",
    "        return len(self.image_paths)\n",
    "\n",
    "    def __getitem__(self, idx):\n",
    "        img_path = self.image_paths[idx]\n",
    "        img = Image.open(img_path).convert('RGB')\n",
    "\n",
    "        if self.transform:\n",
    "            img = self.transform(img)\n",
    "\n",
    "        label = self.labels[idx]\n",
    "        return img, label"
   ],
   "metadata": {
    "collapsed": false,
    "ExecuteTime": {
     "end_time": "2023-10-17T01:41:32.183866Z",
     "start_time": "2023-10-17T01:41:32.179965Z"
    }
   },
   "id": "f69ea56a21a517e5"
  },
  {
   "cell_type": "code",
   "execution_count": 4,
   "outputs": [
    {
     "name": "stdout",
     "output_type": "stream",
     "text": [
      "1728\n"
     ]
    }
   ],
   "source": [
    "wbc_transform = transforms.Compose([\n",
    "    transforms.Resize((128, 128)),\n",
    "    transforms.ToTensor()\n",
    "])\n",
    "\n",
    "wbc_100_val_dataset = WBCDataset(root_dir='WBC_100/val', transform=wbc_transform, mode='val')\n",
    "val_loader_100 = torch.utils.data.DataLoader(wbc_100_val_dataset, batch_size=32, shuffle=False, drop_last=True)\n",
    "\n",
    "print(len(wbc_100_val_dataset))"
   ],
   "metadata": {
    "collapsed": false,
    "ExecuteTime": {
     "end_time": "2023-10-17T01:41:33.816645Z",
     "start_time": "2023-10-17T01:41:33.803566Z"
    }
   },
   "id": "f0afcae9b70f0beb"
  },
  {
   "cell_type": "code",
   "execution_count": 5,
   "outputs": [],
   "source": [
    "class SimpleCNN(nn.Module):\n",
    "    def __init__(self, num_classes=5):\n",
    "        super(SimpleCNN, self).__init__()\n",
    "\n",
    "        self.conv1 = nn.Conv2d(in_channels=3, out_channels=16, kernel_size=3, stride=1, padding=1)\n",
    "        self.bn1 = nn.BatchNorm2d(16)\n",
    "        self.conv2 = nn.Conv2d(in_channels=16, out_channels=32, kernel_size=3, stride=1, padding=1)\n",
    "        self.bn2 = nn.BatchNorm2d(32)\n",
    "        self.conv3 = nn.Conv2d(in_channels=32, out_channels=64, kernel_size=3, stride=1, padding=1)\n",
    "        self.bn3 = nn.BatchNorm2d(64)\n",
    "\n",
    "        self.pool = nn.MaxPool2d(kernel_size=2, stride=2, padding=0)\n",
    "\n",
    "        self.fc1 = nn.Linear(64 * 16 * 16, 512)\n",
    "        self.fc2 = nn.Linear(512, num_classes)\n",
    "\n",
    "        self.dropout = nn.Dropout(0.5)\n",
    "\n",
    "    def forward(self, x):\n",
    "        x = self.pool(F.relu(self.bn1(self.conv1(x))))\n",
    "        x = self.pool(F.relu(self.bn2(self.conv2(x))))\n",
    "        x = self.pool(F.relu(self.bn3(self.conv3(x))))\n",
    "\n",
    "        x = x.view(-1, 64 * 16 * 16)\n",
    "        x = self.dropout(F.relu(self.fc1(x)))\n",
    "        x = self.fc2(x)\n",
    "        return x\n",
    "    \n",
    "simple_cnn = SimpleCNN()"
   ],
   "metadata": {
    "collapsed": false,
    "ExecuteTime": {
     "end_time": "2023-10-17T01:41:34.476111Z",
     "start_time": "2023-10-17T01:41:34.434625Z"
    }
   },
   "id": "8ae8291e5836f7b4"
  },
  {
   "cell_type": "code",
   "execution_count": 6,
   "outputs": [],
   "source": [
    "def test_model(model, val_loader):\n",
    "    val_accuracy_history = []\n",
    "\n",
    "    # Validation phase\n",
    "    model.eval()\n",
    "    val_loss = 0.0\n",
    "    val_corrects = 0\n",
    "    with torch.no_grad():\n",
    "        for inputs, labels in val_loader:\n",
    "            inputs, labels = inputs.to(device), labels.to(device)\n",
    "            outputs = model(inputs)\n",
    "            _, preds = torch.max(outputs, 1)\n",
    "            val_corrects += torch.sum(preds == labels.data)\n",
    "\n",
    "    val_accuracy = val_corrects.double() / len(val_loader.dataset)\n",
    "\n",
    "    return val_accuracy"
   ],
   "metadata": {
    "collapsed": false,
    "ExecuteTime": {
     "end_time": "2023-10-17T01:41:36.030261Z",
     "start_time": "2023-10-17T01:41:36.019951Z"
    }
   },
   "id": "1b6a499a3a283299"
  },
  {
   "cell_type": "code",
   "execution_count": 7,
   "outputs": [],
   "source": [
    "dataset_name = ['WBC_100', 'WBC_50', 'WBC_10', 'WBC_1']"
   ],
   "metadata": {
    "collapsed": false,
    "ExecuteTime": {
     "end_time": "2023-10-17T01:41:37.826269Z",
     "start_time": "2023-10-17T01:41:37.820764Z"
    }
   },
   "id": "c91634837f93f9d1"
  },
  {
   "cell_type": "code",
   "execution_count": 8,
   "outputs": [
    {
     "name": "stdout",
     "output_type": "stream",
     "text": [
      "Accuracy of random-weight for WBC_100:  0.9623842592592593\n",
      "Accuracy of pretrained-weight for WBC_100:  0.9652777777777778\n",
      "Accuracy of random-weight for WBC_50:  0.9577546296296297\n",
      "Accuracy of pretrained-weight for WBC_50:  0.9606481481481481\n",
      "Accuracy of random-weight for WBC_10:  0.9207175925925926\n",
      "Accuracy of pretrained-weight for WBC_10:  0.9253472222222222\n",
      "Accuracy of random-weight for WBC_1:  0.6128472222222222\n",
      "Accuracy of pretrained-weight for WBC_1:  0.6458333333333334\n"
     ]
    }
   ],
   "source": [
    "for name in dataset_name:\n",
    "    model_random = SimpleCNN().to(device)\n",
    "    model_random.load_state_dict(torch.load(\"weights/\"+name+\"_random.pth\", map_location=torch.device('cpu')))\n",
    "    model_pretrained = SimpleCNN().to(device)\n",
    "    model_pretrained.load_state_dict(torch.load(\"weights/\"+name+\"_pretrained.pth\", map_location=torch.device('cpu')))\n",
    "    \n",
    "    random_acc = test_model(model_random, val_loader_100)\n",
    "    print(\"Accuracy of random-weight for \"+name+\": \", random_acc.item())\n",
    "    pretrained_acc = test_model(model_pretrained, val_loader_100)\n",
    "    print(\"Accuracy of pretrained-weight for \"+name+\": \", pretrained_acc.item())"
   ],
   "metadata": {
    "collapsed": false,
    "ExecuteTime": {
     "end_time": "2023-10-17T01:42:50.523204Z",
     "start_time": "2023-10-17T01:41:39.173304Z"
    }
   },
   "id": "f2de1cb0034b0658"
  },
  {
   "cell_type": "code",
   "execution_count": null,
   "outputs": [],
   "source": [],
   "metadata": {
    "collapsed": false
   },
   "id": "cb226cc9c8b07eaf"
  }
 ],
 "metadata": {
  "kernelspec": {
   "display_name": "Python 3",
   "language": "python",
   "name": "python3"
  },
  "language_info": {
   "codemirror_mode": {
    "name": "ipython",
    "version": 2
   },
   "file_extension": ".py",
   "mimetype": "text/x-python",
   "name": "python",
   "nbconvert_exporter": "python",
   "pygments_lexer": "ipython2",
   "version": "2.7.6"
  }
 },
 "nbformat": 4,
 "nbformat_minor": 5
}
